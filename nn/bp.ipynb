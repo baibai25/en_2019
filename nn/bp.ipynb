{
 "cells": [
  {
   "cell_type": "code",
   "execution_count": 1,
   "metadata": {},
   "outputs": [],
   "source": [
    "import numpy as np\n",
    "import pandas as pd\n",
    "import matplotlib.pyplot as plt"
   ]
  },
  {
   "cell_type": "code",
   "execution_count": 56,
   "metadata": {},
   "outputs": [],
   "source": [
    "INPUTNO = 2\n",
    "HIDDENNO = 3\n",
    "ALPHA = 0.1\n",
    "LIMIT = 0.1\n",
    "np.random.seed(64)"
   ]
  },
  {
   "cell_type": "code",
   "execution_count": 3,
   "metadata": {},
   "outputs": [],
   "source": [
    "# sigmoid function\n",
    "def sigmoid(u):\n",
    "    return 1 / (1 + np.exp(-u))"
   ]
  },
  {
   "cell_type": "code",
   "execution_count": 5,
   "metadata": {},
   "outputs": [],
   "source": [
    "# forward network\n",
    "def forward(x, hi, wh, wo):\n",
    "    # Input -> Hidden\n",
    "    for i in range(HIDDENNO):\n",
    "        u = np.dot(x, wh[i, :-1]) + wh[i, -1]\n",
    "        u -= wh[i, -1]\n",
    "        hi[i] = sigmoid(u)\n",
    "    \n",
    "    # Hidden -> Output\n",
    "    o = np.dot(hi, wo[:-1]) + wo[-1]\n",
    "    o -= wo[-1]\n",
    "    \n",
    "    return sigmoid(o)"
   ]
  },
  {
   "cell_type": "code",
   "execution_count": 6,
   "metadata": {},
   "outputs": [],
   "source": [
    "def olearn(hi, wo, o, t):\n",
    "    # Update weights: HIDDEN <- OUTPUT\n",
    "    d = (t - o) * o * (1 - o)\n",
    "    for i in range(HIDDENNO):\n",
    "        wo[i] += ALPHA * d * hi[i]\n",
    "    \n",
    "    # bias\n",
    "    wo[-1] += ALPHA * d *(-1)\n",
    "    \n",
    "    return"
   ]
  },
  {
   "cell_type": "code",
   "execution_count": 7,
   "metadata": {},
   "outputs": [],
   "source": [
    "def hlearn(x, hi, wh, wo, o, t):\n",
    "    # Update weights: INPUT <- HIDDEN\n",
    "    for i in range(HIDDENNO):\n",
    "        d = hi[i] * (1 - hi[i]) * wo[i] * (t - o) * o * (1 - o)\n",
    "        \n",
    "        for j in range(INPUTNO):\n",
    "            wh[i, j] += ALPHA * x[j] * d\n",
    "        \n",
    "        # bias\n",
    "        wh[i, -1] += ALPHA * d *(-1)\n",
    "    return"
   ]
  },
  {
   "cell_type": "code",
   "execution_count": 65,
   "metadata": {},
   "outputs": [],
   "source": [
    "# data\n",
    "x = np.array([[0, 0], [0, 1], [1, 0], [1, 1]])\n",
    "t = t = np.array([0, 1, 1, 1])\n",
    "# initialize hidden layer units and weights\n",
    "hi = np.zeros(HIDDENNO)\n",
    "wh = np.random.uniform(-1, 1, [INPUTNO+1, HIDDENNO])\n",
    "wo = np.random.uniform(-1, 1, [HIDDENNO+1, 1])"
   ]
  },
  {
   "cell_type": "code",
   "execution_count": 66,
   "metadata": {},
   "outputs": [
    {
     "name": "stdout",
     "output_type": "stream",
     "text": [
      "1000 [0.34702873]\n"
     ]
    }
   ],
   "source": [
    "# Learning\n",
    "epoch = 0\n",
    "err = 100\n",
    "plot_err = []\n",
    "\n",
    "while err > LIMIT:\n",
    "\n",
    "    err = 0\n",
    "    for i in range(len(x)):\n",
    "        o = forward(x[i], hi, wh, wo)\n",
    "        olearn(hi, wo, o, t[i])\n",
    "        hlearn(x[i], hi, wh, wo, o, t[i])\n",
    "        err += (o-t[i]) * (o-t[i]) \n",
    "    \n",
    "    plot_err.append(err)\n",
    "    epoch += 1\n",
    "    \n",
    "    if epoch % 1000 == 0:\n",
    "        print(epoch, err)\n",
    "    \n",
    "    if epoch == 10000:\n",
    "        break"
   ]
  },
  {
   "cell_type": "code",
   "execution_count": 67,
   "metadata": {},
   "outputs": [
    {
     "data": {
      "image/png": "[encoded data removed]",
      "text/plain": [
       "<Figure size 432x288 with 1 Axes>"
      ]
     },
     "metadata": {
      "needs_background": "light"
     },
     "output_type": "display_data"
    }
   ],
   "source": [
    "# MSE graph\n",
    "plt.plot(plot_err)\n",
    "plt.xlabel('epoch')\n",
    "plt.ylabel('MSE')\n",
    "plt.show()"
   ]
  },
  {
   "cell_type": "code",
   "execution_count": 68,
   "metadata": {},
   "outputs": [
    {
     "name": "stdout",
     "output_type": "stream",
     "text": [
      "[0 0] > [0.25497167]\n",
      "[0 1] > [0.87131741]\n",
      "[1 0] > [0.87873574]\n",
      "[1 1] > [0.94182868]\n"
     ]
    }
   ],
   "source": [
    "for i in range(len(x)):\n",
    "    print(x[i], '>', forward(x[i], hi, wh, wo))"
   ]
  },
  {
   "cell_type": "code",
   "execution_count": null,
   "metadata": {},
   "outputs": [],
   "source": []
  }
 ],
 "metadata": {
  "kernelspec": {
   "display_name": "Python 3",
   "language": "python",
   "name": "python3"
  },
  "language_info": {
   "codemirror_mode": {
    "name": "ipython",
    "version": 3
   },
   "file_extension": ".py",
   "mimetype": "text/x-python",
   "name": "python",
   "nbconvert_exporter": "python",
   "pygments_lexer": "ipython3",
   "version": "3.6.4"
  }
 },
 "nbformat": 4,
 "nbformat_minor": 2
}
